{
 "cells": [
  {
   "cell_type": "code",
   "execution_count": 2,
   "metadata": {},
   "outputs": [],
   "source": [
    "from design_space_exploration.dse import template_to_system, read_architecture_template\n",
    "from software_model.utils import Tensor, DataType, data_type_dict\n",
    "from software_model.transformer import TransformerBlockAutoRegressionTP, TransformerBlockInitComputationTP\n",
    "\n",
    "specs = read_architecture_template(\"configs/GA100.json\")\n",
    "sys = template_to_system(specs)\n",
    "\n",
    "model_auto_regression = TransformerBlockAutoRegressionTP(\n",
    "    d_model = 12288,\n",
    "    n_heads = 96,\n",
    "    device_count = 1,\n",
    "    data_type = data_type_dict['fp16'],\n",
    ")\n"
   ]
  },
  {
   "cell_type": "code",
   "execution_count": 3,
   "metadata": {},
   "outputs": [],
   "source": [
    "bs = 16\n",
    "seq_len = 1024\n",
    "\n",
    "_ = model_auto_regression(\n",
    "    Tensor([bs, 1, 12288], data_type_dict['fp16']),\n",
    "    seq_len,\n",
    ")"
   ]
  },
  {
   "cell_type": "code",
   "execution_count": 4,
   "metadata": {},
   "outputs": [],
   "source": [
    "auto_regression_latency_simulated = model_auto_regression.compile_and_simulate(\n",
    "    sys, \"heuristic-GPU\"\n",
    ")\n"
   ]
  },
  {
   "cell_type": "code",
   "execution_count": 5,
   "metadata": {},
   "outputs": [
    {
     "name": "stdout",
     "output_type": "stream",
     "text": [
      "0.0025014442198581562\n"
     ]
    }
   ],
   "source": [
    "print(auto_regression_latency_simulated)\n"
   ]
  },
  {
   "cell_type": "code",
   "execution_count": 1,
   "metadata": {},
   "outputs": [],
   "source": [
    "def find_permutations(n):\n",
    "    permutations = set()\n",
    "\n",
    "    for i in range(1, n + 1):\n",
    "        if n % i == 0:\n",
    "            for j in range(1, n + 1):\n",
    "                if (n // i) % j == 0:\n",
    "                    k = n // (i * j)\n",
    "                    permutations.add((i, j, k))\n",
    "\n",
    "    return list(permutations)"
   ]
  },
  {
   "cell_type": "code",
   "execution_count": 2,
   "metadata": {},
   "outputs": [
    {
     "data": {
      "text/plain": [
       "[(4, 1, 1), (1, 2, 2), (2, 1, 2), (2, 2, 1), (1, 1, 4), (1, 4, 1)]"
      ]
     },
     "execution_count": 2,
     "metadata": {},
     "output_type": "execute_result"
    }
   ],
   "source": [
    "find_permutations(4)"
   ]
  }
 ],
 "metadata": {
  "kernelspec": {
   "display_name": "llmcompass",
   "language": "python",
   "name": "python3"
  },
  "language_info": {
   "codemirror_mode": {
    "name": "ipython",
    "version": 3
   },
   "file_extension": ".py",
   "mimetype": "text/x-python",
   "name": "python",
   "nbconvert_exporter": "python",
   "pygments_lexer": "ipython3",
   "version": "3.9.21"
  }
 },
 "nbformat": 4,
 "nbformat_minor": 2
}
